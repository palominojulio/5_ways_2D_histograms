{
  "nbformat": 4,
  "nbformat_minor": 0,
  "metadata": {
    "colab": {
      "provenance": [],
      "machine_shape": "hm",
      "gpuType": "A100",
      "authorship_tag": "ABX9TyM58PiB2YVRWUNb46mnS1DO",
      "include_colab_link": true
    },
    "kernelspec": {
      "name": "python3",
      "display_name": "Python 3"
    },
    "language_info": {
      "name": "python"
    },
    "accelerator": "GPU"
  },
  "cells": [
    {
      "cell_type": "markdown",
      "metadata": {
        "id": "view-in-github",
        "colab_type": "text"
      },
      "source": [
        "<a href=\"https://colab.research.google.com/github/palominojulio/5_ways_2D_histograms/blob/master/2025710_1937%5B_TransIAR_%5D.ipynb\" target=\"_parent\"><img src=\"https://colab.research.google.com/assets/colab-badge.svg\" alt=\"Open In Colab\"/></a>"
      ]
    },
    {
      "cell_type": "markdown",
      "source": [
        "#1 Configuración Inicial de Google Colab\n",
        "\n",
        "Este código es un script de configuración inicial en Google Colab para preparar el entorno y utilizar el repositorio de TransIAR, un modelo de red neuronal para el análisis de imágenes médicas (como aneurismas cerebrales).\n"
      ],
      "metadata": {
        "id": "CCABGrPQ3yOp"
      }
    },
    {
      "cell_type": "markdown",
      "source": [
        "# 1. Importación de módulos\n",
        "\n",
        "Se importan módulos de Python necesarios para interactuar con el sistema operativo, controlar procesos y manejar rutas."
      ],
      "metadata": {
        "id": "dJ9WutLg7xR2"
      }
    },
    {
      "cell_type": "code",
      "source": [
        "# Configuración inicial para TransIAR en Google Colab\n",
        "import os\n",
        "import sys\n",
        "import subprocess"
      ],
      "metadata": {
        "id": "YzltAMBV7qJL"
      },
      "execution_count": null,
      "outputs": []
    },
    {
      "cell_type": "markdown",
      "source": [
        "# 🧠 2. Verificar GPU\n",
        "\n",
        "Intenta usar el comando nvidia-smi para comprobar si Colab tiene GPU disponible.\n",
        "\n",
        "Si falla (por ejemplo, si no hay GPU o el comando está deshabilitado), muestra una advertencia.\n",
        "\n",
        "Esto es útil para asegurarse de que tienes aceleración por hardware disponible para entrenar/inferir modelos."
      ],
      "metadata": {
        "id": "GWeGaXuC8BPa"
      }
    },
    {
      "cell_type": "code",
      "source": [
        "# Verificar GPU disponible (manejo de errores)\n",
        "try:\n",
        "    !nvidia-smi\n",
        "except:\n",
        "    print(\"⚠️  nvidia-smi no disponible, verificando GPU con torch...\")"
      ],
      "metadata": {
        "id": "PQY9tc9l8Poo"
      },
      "execution_count": null,
      "outputs": []
    },
    {
      "cell_type": "markdown",
      "source": [
        "# 📁 3. Clonar el repositorio TransIAR\n",
        "\n",
        "Comprueba si ya existe una carpeta llamada TransIAR.\n",
        "\n",
        "Si no existe, clona el repositorio oficial desde GitHub.\n",
        "\n",
        "Si ya existe, lo salta y evita volver a descargarlo."
      ],
      "metadata": {
        "id": "KXysAOPL8VIc"
      }
    },
    {
      "cell_type": "code",
      "source": [
        "# Clonar el repositorio (si no existe)\n",
        "if not os.path.exists('TransIAR'):\n",
        "    !git clone https://github.com/CMACH508/TransIAR.git\n",
        "else:\n",
        "    print(\"✅ Repositorio TransIAR ya existe\")"
      ],
      "metadata": {
        "id": "u6Zyp0qi8hbX"
      },
      "execution_count": null,
      "outputs": []
    },
    {
      "cell_type": "markdown",
      "source": [
        "📂 4. Entrar en la carpeta del repositorio\n",
        "\n",
        "Usa un comando mágico de Jupyter/Colab (%cd) para cambiar al directorio del repositorio recién clonado."
      ],
      "metadata": {
        "id": "DG7-gxQS8oRi"
      }
    },
    {
      "cell_type": "code",
      "source": [
        "%cd TransIAR"
      ],
      "metadata": {
        "id": "eaWWRruH9EoR"
      },
      "execution_count": null,
      "outputs": []
    },
    {
      "cell_type": "markdown",
      "source": [
        "# 📦 5. Instalar dependencias necesarias\n",
        "\n",
        "Instala los paquetes necesarios para que el código de TransIAR funcione correctamente.\n",
        "\n",
        "Incluye:\n",
        "\n",
        "einops: para operaciones con tensores.\n",
        "\n",
        "numpy, scikit-learn: cálculo numérico y utilidades ML.\n",
        "\n",
        "torch, torchvision, torchaudio: librerías de PyTorch.\n",
        "\n",
        "matplotlib, seaborn: para gráficos y visualización de datos."
      ],
      "metadata": {
        "id": "FEGicfRI9Yzf"
      }
    },
    {
      "cell_type": "code",
      "source": [
        "# Instalar dependencias compatibles (versiones actualizadas)\n",
        "print(\"📦 Instalando dependencias compatibles...\")\n",
        "!pip install einops\n",
        "!pip install numpy>=1.22.3\n",
        "!pip install scikit-learn>=1.1.3\n",
        "!pip install torch torchvision torchaudio\n",
        "!pip install matplotlib seaborn"
      ],
      "metadata": {
        "id": "zWqABtzU9tWD"
      },
      "execution_count": null,
      "outputs": []
    },
    {
      "cell_type": "markdown",
      "source": [
        "# 📁 6. Crear carpeta para los datasets\n",
        "\n",
        "Crea un directorio dataset si no existe, donde se supone que colocarás los datos necesarios para entrenar o inferir."
      ],
      "metadata": {
        "id": "QhMERJtM9v45"
      }
    },
    {
      "cell_type": "code",
      "source": [
        "# Crear carpeta para datasets\n",
        "!mkdir -p dataset"
      ],
      "metadata": {
        "id": "vdinFwBI9-SZ"
      },
      "execution_count": null,
      "outputs": []
    },
    {
      "cell_type": "markdown",
      "source": [
        "# ✅ 7. Mensaje final\n",
        "\n",
        "Indica que todo está listo para comenzar a usar el modelo."
      ],
      "metadata": {
        "id": "aNYVwmGa-OJo"
      }
    },
    {
      "cell_type": "code",
      "source": [
        "print(\"✅ Configuración inicial completada\")"
      ],
      "metadata": {
        "id": "3Z3PYnOc-f0F"
      },
      "execution_count": null,
      "outputs": []
    },
    {
      "cell_type": "markdown",
      "source": [
        "# ✅ En resumen:\n",
        "\n",
        "Este script prepara Google Colab para trabajar con el modelo TransIAR, instalando dependencias, verificando la GPU, organizando archivos y dejando todo listo para comenzar con el procesamiento de imágenes médicas.\n",
        "\n",
        "Si quieres, puedo ayudarte con los siguientes pasos para cargar datos DICOM, hacer inferencias, o usar un modelo preentrenado. ¿Te gustaría continuar con eso?"
      ],
      "metadata": {
        "id": "pzcx8AII-ww8"
      }
    },
    {
      "cell_type": "markdown",
      "source": [
        "# 2 Descarga de Datos de Prueba\n",
        "\n",
        "Este código está diseñado para gestionar datasets de prueba que se usarán con el modelo TransIAR.\n",
        "Dado que los datos reales no están disponibles públicamente (por razones médicas y éticas), se crean datos sintéticos con la misma estructura que los reales, para poder probar el pipeline."
      ],
      "metadata": {
        "id": "9dNuDqqQ3654"
      }
    },
    {
      "cell_type": "markdown",
      "source": [
        "# 🧩 1. Importación de librerías\n",
        "\n",
        "requests: para descargar archivos desde internet.\n",
        "\n",
        "os: para interactuar con el sistema de archivos.\n",
        "\n",
        "numpy: para crear arrays numéricos (simular datos).\n",
        "\n",
        "pickle: para guardar datos en archivos .pkl (formato binario de Python)."
      ],
      "metadata": {
        "id": "X1H0MSnSA722"
      }
    },
    {
      "cell_type": "code",
      "source": [
        "import requests\n",
        "import os7\n",
        "import numpy as np\n",
        "import pickle"
      ],
      "metadata": {
        "id": "nxMpapZYA_cl"
      },
      "execution_count": null,
      "outputs": []
    },
    {
      "cell_type": "markdown",
      "source": [
        "# 🌐 2. Función para descargar archivos\n",
        "\n",
        "Esta función permite descargar un archivo desde una URL dada y guardarlo con el nombre filename.\n",
        "✔️ Es útil si luego quieres descargar datasets reales desde Zenodo (cuando estén disponibles)."
      ],
      "metadata": {
        "id": "p_6DLGa3CBHd"
      }
    },
    {
      "cell_type": "code",
      "source": [
        "def download_file(url, filename):\n",
        "    \"\"\"Descarga un archivo desde una URL\"\"\"\n",
        "    response = requests.get(url, stream=True)\n",
        "    if response.status_code == 200:\n",
        "        with open(filename, 'wb') as f:\n",
        "            for chunk in response.iter_content(chunk_size=8192):\n",
        "                f.write(chunk)\n",
        "        print(f\"✅ Descargado: {filename}\")\n",
        "    else:\n",
        "        print(f\"❌ Error descargando: {filename}\")"
      ],
      "metadata": {
        "id": "yqovb1glCadO"
      },
      "execution_count": null,
      "outputs": []
    },
    {
      "cell_type": "markdown",
      "source": [
        "# ⚠️ 3. Mensaje informativo\n",
        "\n",
        "# URLs de los datasets (actualmente no disponibles públicamente)\n",
        "# Nota: Los datasets reales requieren permisos especiales por regulaciones hospitalarias\n",
        "print(\"📋 IMPORTANTE: Los datasets reales requieren permisos especiales\")\n",
        "print(\"   Para demostración, crearemos datos sintéticos con la misma estructura\")"
      ],
      "metadata": {
        "id": "J0p8_L_sCm60"
      }
    },
    {
      "cell_type": "code",
      "source": [
        "print(\"📋 IMPORTANTE: Los datasets reales requieren permisos especiales\")\n",
        "print(\"   Para demostración, crearemos datos sintéticos con la misma estructura\")"
      ],
      "metadata": {
        "id": "PTKJ2nUaC12S"
      },
      "execution_count": null,
      "outputs": []
    },
    {
      "cell_type": "markdown",
      "source": [
        "# 🧪 4. Crear datos sintéticos\n",
        "\n",
        "Se define una función que crea un conjunto de datos ficticio, pero con la misma estructura de forma y tipo que el conjunto real."
      ],
      "metadata": {
        "id": "khRZrWyyC8t0"
      }
    },
    {
      "cell_type": "code",
      "source": [
        "# Crear datos sintéticos para demostración\n",
        "def create_synthetic_data():\n",
        "    \"\"\"Crea datos sintéticos para demostración del pipeline\"\"\"\n",
        "    print(\"🔧 Creando datos sintéticos para demostración...\")"
      ],
      "metadata": {
        "id": "Om1-HT8tDISZ"
      },
      "execution_count": null,
      "outputs": []
    },
    {
      "cell_type": "markdown",
      "source": [
        "# 📦 Simulación de vox_test\n",
        "\n",
        "vox_test: simula volúmenes 3D (patches) para 82 pacientes, cada uno con 4 parches de tamaño 96x96x96.\n",
        "\n",
        "y_test: vector de 82 etiquetas (0 o 1), una por paciente, para clasificación binaria (aneurisma/no aneurisma)."
      ],
      "metadata": {
        "id": "ZJ-hwAmxDZQx"
      }
    },
    {
      "cell_type": "code",
      "source": [
        "    # Simular estructura de datos real\n",
        "    synthetic_test_data = {\n",
        "        'vox_test': np.random.randn(82, 4, 96, 96, 96),  # 82 casos, 4 tipos de parches\n",
        "        'y_test': np.random.randint(0, 2, 82)  # Etiquetas binarias\n",
        "    }"
      ],
      "metadata": {
        "id": "NGIl35MZDlhB"
      },
      "execution_count": null,
      "outputs": []
    },
    {
      "cell_type": "markdown",
      "source": [
        "# 📈 Simulación de datos auxiliares\n",
        "\n",
        "af_test: un array de características adicionales por paciente (10 valores numéricos por caso)."
      ],
      "metadata": {
        "id": "JnZXJhE9EKs5"
      }
    },
    {
      "cell_type": "code",
      "source": [
        "    synthetic_af_data = {\n",
        "        'af_test': np.random.randn(82, 10)  # 82 casos, 10 características auxiliares\n",
        "    }"
      ],
      "metadata": {
        "id": "xHtmNjHtERZg"
      },
      "execution_count": null,
      "outputs": []
    },
    {
      "cell_type": "markdown",
      "source": [
        "# 💾 Guardado de los datos sintéticos\n",
        "\n",
        "Guarda los datos simulados como archivos .pkl dentro de la carpeta dataset/.\n",
        "\n",
        "Estos archivos se usarán luego para alimentar el modelo en la etapa de inferencia o prueba."
      ],
      "metadata": {
        "id": "S_1W06aAEfG9"
      }
    },
    {
      "cell_type": "code",
      "source": [
        "    # Guardar datos sintéticos\n",
        "    with open('dataset/dataset_cta_balanced_test.pkl', 'wb') as f:\n",
        "        pickle.dump(synthetic_test_data, f)\n",
        "\n",
        "    with open('dataset/dataset_af_balanced_test.pkl', 'wb') as f:\n",
        "        pickle.dump(synthetic_af_data, f)"
      ],
      "metadata": {
        "id": "00m32z7qE8sD"
      },
      "execution_count": null,
      "outputs": []
    },
    {
      "cell_type": "markdown",
      "source": [
        "# ✅ 5. Ejecutar la creación de datos\n",
        "\n",
        "Llama a la función para crear y guardar los datos sintéticos."
      ],
      "metadata": {
        "id": "iqTkeThEDr99"
      }
    },
    {
      "cell_type": "code",
      "source": [
        "\n",
        "\n",
        "    print(\"✅ Datos sintéticos creados para demostración\")\n",
        "    print(\"   Nota: Para uso real, descarga los datos desde Zenodo con permisos\")\n",
        "\n",
        "# Crear datos sintéticos\n",
        "create_synthetic_data()"
      ],
      "metadata": {
        "colab": {
          "base_uri": "https://localhost:8080/"
        },
        "id": "EYqjV9Qb4CUs",
        "outputId": "a8b93d57-38c0-45ba-8055-535ed726f4d0"
      },
      "execution_count": 3,
      "outputs": [
        {
          "output_type": "stream",
          "name": "stdout",
          "text": [
            "📋 IMPORTANTE: Los datasets reales requieren permisos especiales\n",
            "   Para demostración, crearemos datos sintéticos con la misma estructura\n",
            "🔧 Creando datos sintéticos para demostración...\n",
            "✅ Datos sintéticos creados para demostración\n",
            "   Nota: Para uso real, descarga los datos desde Zenodo con permisos\n"
          ]
        }
      ]
    },
    {
      "cell_type": "markdown",
      "source": [
        "# 🔚 En resumen:\n",
        "\n",
        "Este script simula datos médicos para poder probar el modelo TransIAR sin necesidad de los datos reales (que están protegidos).\n",
        "Esto permite continuar con el desarrollo, depuración o demostración del pipeline de inferencia sin violar normas éticas ni legales."
      ],
      "metadata": {
        "id": "bAyo4G8kFhW6"
      }
    },
    {
      "cell_type": "markdown",
      "source": [
        "Perfecto, ahora te explico cómo se cargan los datos simulados y se realiza la inferencia con el modelo TransIAR. Esto corresponde al siguiente paso del pipeline: predecir aneurismas usando los datos .pkl creados."
      ],
      "metadata": {
        "id": "IvTgTPLIK08U"
      }
    },
    {
      "cell_type": "markdown",
      "source": [
        "# 🔄 1. Cargar los datos desde los archivos .pkl\n",
        "\n",
        "vox_test: tensor de forma (82, 4, 96, 96, 96), que representa 82 pacientes con 4 \"patches\" 3D cada uno.\n",
        "\n",
        "y_test: vector de etiquetas reales.\n",
        "\n",
        "af_test: datos adicionales (como edad, sexo, etc., aunque aquí son ficticios)."
      ],
      "metadata": {
        "id": "SkX_twtuK66J"
      }
    },
    {
      "cell_type": "code",
      "source": [
        "import pickle\n",
        "\n",
        "# Cargar datos de test (imágenes volumétricas y etiquetas)\n",
        "with open('dataset/dataset_cta_balanced_test.pkl', 'rb') as f:\n",
        "    test_data = pickle.load(f)\n",
        "\n",
        "# Cargar datos auxiliares (características adicionales)\n",
        "with open('dataset/dataset_af_balanced_test.pkl', 'rb') as f:\n",
        "    af_data = pickle.load(f)\n",
        "\n",
        "# Extraer variables\n",
        "vox_test = test_data['vox_test']  # Imágenes 3D\n",
        "y_test = test_data['y_test']      # Etiquetas verdaderas (0 o 1)\n",
        "af_test = af_data['af_test']      # Datos auxiliares (tablas numéricas)\n"
      ],
      "metadata": {
        "id": "gPqZcKgBLDpk"
      },
      "execution_count": 4,
      "outputs": []
    },
    {
      "cell_type": "markdown",
      "source": [
        "# 🧠 2. Cargar el modelo TransIAR (preentrenado)\n",
        "Si estás usando el modelo entrenado model_w_af.pth:\n",
        "Esto:\n",
        "\n",
        "Crea una instancia del modelo TransIAR.\n",
        "\n",
        "Carga los pesos preentrenados.\n",
        "\n",
        "Lo pone en modo evaluación (inferencia, no entrenamiento)."
      ],
      "metadata": {
        "id": "BSkMyTXPLPic"
      }
    },
    {
      "cell_type": "code",
      "source": [
        "import torch\n",
        "from model_transiar_af import TransIARNet  # Import correcto\n",
        "\n",
        "# Crear el modelo\n",
        "model = TransIARNet()\n",
        "\n",
        "# Cargar pesos preentrenados (modelo con datos auxiliares)\n",
        "model.load_state_dict(torch.load('model_w_af.pth', map_location='cpu'))\n",
        "model.eval()"
      ],
      "metadata": {
        "colab": {
          "base_uri": "https://localhost:8080/",
          "height": 383
        },
        "id": "7Da0Av-jLR7U",
        "outputId": "cbe6d029-5896-436f-fb52-a0e31183efb2"
      },
      "execution_count": 7,
      "outputs": [
        {
          "output_type": "error",
          "ename": "ModuleNotFoundError",
          "evalue": "No module named 'model_transiar_af'",
          "traceback": [
            "\u001b[0;31m---------------------------------------------------------------------------\u001b[0m",
            "\u001b[0;31mModuleNotFoundError\u001b[0m                       Traceback (most recent call last)",
            "\u001b[0;32m/tmp/ipython-input-7-2016782878.py\u001b[0m in \u001b[0;36m<cell line: 0>\u001b[0;34m()\u001b[0m\n\u001b[1;32m      1\u001b[0m \u001b[0;32mimport\u001b[0m \u001b[0mtorch\u001b[0m\u001b[0;34m\u001b[0m\u001b[0;34m\u001b[0m\u001b[0m\n\u001b[0;32m----> 2\u001b[0;31m \u001b[0;32mfrom\u001b[0m \u001b[0mmodel_transiar_af\u001b[0m \u001b[0;32mimport\u001b[0m \u001b[0mTransIARNet\u001b[0m  \u001b[0;31m# Import correcto\u001b[0m\u001b[0;34m\u001b[0m\u001b[0;34m\u001b[0m\u001b[0m\n\u001b[0m\u001b[1;32m      3\u001b[0m \u001b[0;34m\u001b[0m\u001b[0m\n\u001b[1;32m      4\u001b[0m \u001b[0;31m# Crear el modelo\u001b[0m\u001b[0;34m\u001b[0m\u001b[0;34m\u001b[0m\u001b[0m\n\u001b[1;32m      5\u001b[0m \u001b[0mmodel\u001b[0m \u001b[0;34m=\u001b[0m \u001b[0mTransIARNet\u001b[0m\u001b[0;34m(\u001b[0m\u001b[0;34m)\u001b[0m\u001b[0;34m\u001b[0m\u001b[0;34m\u001b[0m\u001b[0m\n",
            "\u001b[0;31mModuleNotFoundError\u001b[0m: No module named 'model_transiar_af'",
            "",
            "\u001b[0;31m---------------------------------------------------------------------------\u001b[0;32m\nNOTE: If your import is failing due to a missing package, you can\nmanually install dependencies using either !pip or !apt.\n\nTo view examples of installing some common dependencies, click the\n\"Open Examples\" button below.\n\u001b[0;31m---------------------------------------------------------------------------\u001b[0m\n"
          ],
          "errorDetails": {
            "actions": [
              {
                "action": "open_url",
                "actionText": "Open Examples",
                "url": "/notebooks/snippets/importing_libraries.ipynb"
              }
            ]
          }
        }
      ]
    },
    {
      "cell_type": "markdown",
      "source": [
        "# 📊 3. Inferencia: predecir con los datos cargados\n",
        "\n",
        "outputs: valores crudos del modelo (logits).\n",
        "\n",
        "torch.sigmoid(outputs): convierte logits en probabilidades.\n",
        "\n",
        "preds_binary: convierte las probabilidades en 0 o 1 (clasificación final)."
      ],
      "metadata": {
        "id": "BAtZJ5YyW40I"
      }
    },
    {
      "cell_type": "code",
      "source": [
        "# Convertir datos a tensores de PyTorch\n",
        "vox_tensor = torch.tensor(vox_test, dtype=torch.float32)\n",
        "af_tensor = torch.tensor(af_test, dtype=torch.float32)\n",
        "\n",
        "# Si tienes GPU:\n",
        "# vox_tensor = vox_tensor.cuda()\n",
        "# af_tensor = af_tensor.cuda()\n",
        "# model = model.cuda()\n",
        "\n",
        "# Predecir (sin gradientes)\n",
        "with torch.no_grad():\n",
        "    outputs = model(vox_tensor, af_tensor)\n",
        "    preds = torch.sigmoid(outputs).numpy()  # Probabilidades entre 0 y 1\n",
        "    preds_binary = (preds > 0.5).astype(int)  # Clasificación final 0/1"
      ],
      "metadata": {
        "id": "6Ns0I_CoXIaf"
      },
      "execution_count": null,
      "outputs": []
    },
    {
      "cell_type": "markdown",
      "source": [
        "# ✅ 4. Evaluar resultados (opcional)\n",
        "\n",
        "Esto te dice qué tan bien predice el modelo:\n",
        "\n",
        "Accuracy: proporción de aciertos.\n",
        "\n",
        "AUC: capacidad de discriminación (0.5 es azar, 1.0 es perfecto)."
      ],
      "metadata": {
        "id": "p099TRyCXWek"
      }
    },
    {
      "cell_type": "code",
      "source": [
        "from sklearn.metrics import accuracy_score, roc_auc_score\n",
        "\n",
        "print(\"🎯 Accuracy:\", accuracy_score(y_test, preds_binary))\n",
        "print(\"📈 AUC:\", roc_auc_score(y_test, preds))\n"
      ],
      "metadata": {
        "id": "DVrz_-VSXglQ"
      },
      "execution_count": null,
      "outputs": []
    },
    {
      "cell_type": "markdown",
      "source": [
        "# 📌 Resumen del flujo completo:\n",
        "\n",
        "Cargar archivos .pkl con pickle.\n",
        "\n",
        "Extraer los arrays de imágenes y características.\n",
        "\n",
        "Cargar el modelo TransIAR y sus pesos.\n",
        "\n",
        "Hacer predicciones con torch.no_grad().\n",
        "\n",
        "Evaluar si quieres comparar con las etiquetas reales."
      ],
      "metadata": {
        "id": "DM-i-VmzXlXP"
      }
    }
  ]
}