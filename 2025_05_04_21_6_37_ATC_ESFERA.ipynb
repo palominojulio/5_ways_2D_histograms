{
  "nbformat": 4,
  "nbformat_minor": 0,
  "metadata": {
    "colab": {
      "provenance": [],
      "gpuType": "A100",
      "authorship_tag": "ABX9TyPUEG9dAMKYDVXYQuhF4QoQ",
      "include_colab_link": true
    },
    "kernelspec": {
      "name": "python3",
      "display_name": "Python 3"
    },
    "language_info": {
      "name": "python"
    },
    "accelerator": "GPU"
  },
  "cells": [
    {
      "cell_type": "markdown",
      "metadata": {
        "id": "view-in-github",
        "colab_type": "text"
      },
      "source": [
        "<a href=\"https://colab.research.google.com/github/palominojulio/5_ways_2D_histograms/blob/master/2025_05_04_21_6_37_ATC_ESFERA.ipynb\" target=\"_parent\"><img src=\"https://colab.research.google.com/assets/colab-badge.svg\" alt=\"Open In Colab\"/></a>"
      ]
    },
    {
      "cell_type": "markdown",
      "source": [
        "🧠 PASO 1: Cargar y preparar entorno en Google Colab\n",
        "\n",
        "Subir tu estudio DICOM (como .zip).\n",
        "1. Convertirlo a .nii.gz.\n",
        "2. Crear una máscara esférica de 15 mm centrada en coordenadas que nos indiques.\n",
        "3. Exportar esa máscara lista para usar en 3D Slicer o PyRadiomics."
      ],
      "metadata": {
        "id": "_m5nP7X8sqOq"
      }
    },
    {
      "cell_type": "code",
      "execution_count": null,
      "metadata": {
        "colab": {
          "base_uri": "https://localhost:8080/"
        },
        "id": "OhxpkQ1vr2f6",
        "outputId": "85ceb3e5-2494-4a58-b3ee-d6f153c21e46"
      },
      "outputs": [
        {
          "output_type": "stream",
          "name": "stdout",
          "text": [
            "\u001b[?25l   \u001b[90m━━━━━━━━━━━━━━━━━━━━━━━━━━━━━━━━━━━━━━━━\u001b[0m \u001b[32m0.0/43.6 kB\u001b[0m \u001b[31m?\u001b[0m eta \u001b[36m-:--:--\u001b[0m\r\u001b[2K   \u001b[90m━━━━━━━━━━━━━━━━━━━━━━━━━━━━━━━━━━━━━━━━\u001b[0m \u001b[32m43.6/43.6 kB\u001b[0m \u001b[31m1.5 MB/s\u001b[0m eta \u001b[36m0:00:00\u001b[0m\n",
            "\u001b[2K   \u001b[90m━━━━━━━━━━━━━━━━━━━━━━━━━━━━━━━━━━━━━━━━\u001b[0m \u001b[32m2.4/2.4 MB\u001b[0m \u001b[31m32.4 MB/s\u001b[0m eta \u001b[36m0:00:00\u001b[0m\n",
            "\u001b[2K   \u001b[90m━━━━━━━━━━━━━━━━━━━━━━━━━━━━━━━━━━━━━━━━\u001b[0m \u001b[32m13.1/13.1 MB\u001b[0m \u001b[31m93.5 MB/s\u001b[0m eta \u001b[36m0:00:00\u001b[0m\n",
            "\u001b[?25h"
          ]
        }
      ],
      "source": [
        "# ✅ INSTALAR LIBRERÍAS NECESARIAS\n",
        "\n",
        "!pip install -q dicom2nifti nibabel pydicom\n",
        "\n",
        "import os\n",
        "import dicom2nifti\n",
        "import nibabel as nib\n",
        "import numpy as np\n",
        "from google.colab import files"
      ]
    },
    {
      "cell_type": "markdown",
      "source": [
        "🧠 PASO 1: Montar Google Drive"
      ],
      "metadata": {
        "id": "KX8BcA0Eu_1W"
      }
    },
    {
      "cell_type": "code",
      "source": [
        "from google.colab import drive\n",
        "drive.mount('/content/drive')"
      ],
      "metadata": {
        "colab": {
          "base_uri": "https://localhost:8080/"
        },
        "id": "OnE39rCsvBsG",
        "outputId": "e5140ce1-7d80-4462-97c3-698a4b8d5496"
      },
      "execution_count": null,
      "outputs": [
        {
          "output_type": "stream",
          "name": "stdout",
          "text": [
            "Mounted at /content/drive\n"
          ]
        }
      ]
    },
    {
      "cell_type": "code",
      "source": [
        "# Parte fija del path\n",
        "base_dir = \"/content/drive/MyDrive/0.UIA.PACS/\"\n",
        "\n",
        "# Pedir solo el nombre de la subcarpeta DICOM\n",
        "folder_name = input(\"📁 Ingresá el nombre de la carpeta DICOM dentro de 0.UIA.PACS:\\n\")\n",
        "\n",
        "# Ruta completa al DICOM\n",
        "dicom_dir = os.path.join(base_dir, folder_name)\n",
        "nifti_output_dir = \"/content\"  # Salida en local\n"
      ],
      "metadata": {
        "colab": {
          "base_uri": "https://localhost:8080/"
        },
        "id": "3mULjVIev4M_",
        "outputId": "95280bbf-05ea-45b0-e010-25c815108557"
      },
      "execution_count": null,
      "outputs": [
        {
          "name": "stdout",
          "output_type": "stream",
          "text": [
            "📁 Ingresá el nombre de la carpeta DICOM dentro de 0.UIA.PACS:\n",
            "0.ATC.36519851216B182MB\n"
          ]
        }
      ]
    },
    {
      "cell_type": "markdown",
      "source": [
        "✅ PASO 2: Solicita la ruta a la carpeta DICOM"
      ],
      "metadata": {
        "id": "kTeGREe2ttDI"
      }
    },
    {
      "cell_type": "markdown",
      "source": [],
      "metadata": {
        "id": "HrSzWrVmODiu"
      }
    },
    {
      "cell_type": "markdown",
      "source": [
        "✅ PASO 3: Convertir DICOM a NIfTI"
      ],
      "metadata": {
        "id": "msFx5K-nuOzr"
      }
    },
    {
      "cell_type": "code",
      "source": [
        "!pip install -q dicom2nifti nibabel pydicom\n",
        "\n",
        "import dicom2nifti\n",
        "import os\n",
        "\n",
        "# Conversión\n",
        "dicom2nifti.convert_directory(dicom_dir, nifti_output_dir, compression=True)\n",
        "\n",
        "# Mostrar resultado\n",
        "for f in os.listdir(nifti_output_dir):\n",
        "    if f.endswith(\".nii.gz\"):\n",
        "        nifti_path = os.path.join(nifti_output_dir, f)\n",
        "        print(\"✅ NIfTI generado:\", nifti_path)"
      ],
      "metadata": {
        "colab": {
          "base_uri": "https://localhost:8080/"
        },
        "id": "9zrhxiWewPTl",
        "outputId": "63f6d873-40fa-4915-ec1b-f4e5cc13bf98"
      },
      "execution_count": null,
      "outputs": [
        {
          "output_type": "stream",
          "name": "stderr",
          "text": [
            "WARNING:dicom2nifti.convert_generic:Removing duplicate slice from series\n"
          ]
        },
        {
          "output_type": "stream",
          "name": "stdout",
          "text": [
            "✅ NIfTI generado: /content/9.nii.gz\n"
          ]
        }
      ]
    },
    {
      "cell_type": "markdown",
      "source": [
        "✅ Se genera un volumen binario (.nii.gz) que contiene una esfera de radio 15 mm, centrada en la coordenada que corresponde al isocentro del cuello del aneurisma. Visto en 3D Slicer\n",
        "\n",
        "✅ Se solicita al usuario las coordenasas del centro de la esfera.\n",
        "✅ Crear un volumen esférico centrado en la coordenada\n",
        "✅ La guarda como esfera_15mm.nii.gz en /content\n",
        "✅ La renombra usando el mismo nombre de la carpeta DICOM original + E15mm.nii.gz\n",
        "✅ La sube a tu Google Drive, dentro de 0.UIA.PACS/\n",
        "✅ Copia ambos archivos a tu Google Drive en 0.UIA.PACS/."
      ],
      "metadata": {
        "id": "1yAPpbhDzbTP"
      }
    },
    {
      "cell_type": "code",
      "source": [
        "!pip install -q nibabel numpy\n",
        "\n",
        "import nibabel as nib\n",
        "import numpy as np\n",
        "import os\n",
        "\n",
        "# Ruta del NIfTI original\n",
        "nifti_path = \"/content/9.nii.gz\"\n",
        "img = nib.load(nifti_path)\n",
        "data = img.get_fdata()\n",
        "affine = img.affine\n",
        "\n",
        "# Centro en voxel space\n",
        "center_voxel = np.array([240, 193, 124])\n",
        "radius_mm = 15\n",
        "\n",
        "# Espaciado (mm por voxel)\n",
        "spacing = img.header.get_zooms()\n",
        "\n",
        "# Radio en voxels\n",
        "radius_vox = np.round(radius_mm / np.array(spacing)).astype(int)\n",
        "\n",
        "# Crear máscara esférica\n",
        "zz, yy, xx = np.ogrid[:data.shape[2], :data.shape[1], :data.shape[0]]\n",
        "dist = ((xx - center_voxel[0])**2 / radius_vox[0]**2 +\n",
        "        (yy - center_voxel[1])**2 / radius_vox[1]**2 +\n",
        "        (zz - center_voxel[2])**2 / radius_vox[2]**2)\n",
        "\n",
        "mask = dist <= 1.0\n",
        "\n",
        "# Aplicar máscara\n",
        "subvolume = np.zeros_like(data)\n",
        "subvolume[mask.T] = data[mask.T]\n",
        "\n",
        "# Guardar nuevo NIfTI\n",
        "output_name = \"0.ATC.36519851216B182MB_E15mm.nii.gz\"\n",
        "output_path = os.path.join(\"/content\", output_name)\n",
        "nib.save(nib.Nifti1Image(subvolume, affine), output_path)\n",
        "\n",
        "print(f\"✅ Subvolumen esférico guardado en: {output_path}\")\n",
        "\n",
        "\n"
      ],
      "metadata": {
        "colab": {
          "base_uri": "https://localhost:8080/"
        },
        "id": "6zQ5Ec_kBA-m",
        "outputId": "41a5c480-8e5d-474d-8f15-368d3b566c74"
      },
      "execution_count": null,
      "outputs": [
        {
          "output_type": "stream",
          "name": "stdout",
          "text": [
            "✅ Subvolumen esférico guardado en: /content/0.ATC.36519851216B182MB_E15mm.nii.gz\n"
          ]
        }
      ]
    },
    {
      "cell_type": "markdown",
      "source": [
        "# ✅ PASO EXTRA: Copiar el archivo .nii.gz a Google Drive en 0.UIA.PACS"
      ],
      "metadata": {
        "id": "Xa-I7SBTCx8q"
      }
    },
    {
      "cell_type": "code",
      "source": [
        "# ✅ PASO EXTRA: Copiar el archivo .nii.gz a Google Drive en 0.UIA.PACS\n",
        "\n",
        "import shutil\n",
        "\n",
        "# Ruta destino: misma carpeta donde estaba el DICOM\n",
        "destination_dir = os.path.join(base_dir)\n",
        "\n",
        "# Comprobamos que existe el archivo y lo movemos\n",
        "if os.path.exists(nifti_path):\n",
        "    output_filename = f\"{folder_name}_E15mm.nii.gz\"\n",
        "    output_path = os.path.join(destination_dir, output_filename)\n",
        "    shutil.copy(nifti_path, output_path)\n",
        "    print(f\"✅ Archivo copiado a Drive como: {output_path}\")\n",
        "else:\n",
        "    print(\"❌ Archivo NIfTI no encontrado para copiar.\")\n"
      ],
      "metadata": {
        "colab": {
          "base_uri": "https://localhost:8080/"
        },
        "id": "a9ZZllSLCzBS",
        "outputId": "ec335e37-760c-40d4-f2f4-83fff8a98bf1"
      },
      "execution_count": null,
      "outputs": [
        {
          "output_type": "stream",
          "name": "stdout",
          "text": [
            "✅ Archivo copiado a Drive como: /content/drive/MyDrive/0.UIA.PACS/0.ATC.36519851216B182MB_E15mm.nii.gz\n"
          ]
        }
      ]
    },
    {
      "cell_type": "markdown",
      "source": [
        "Corrección 20250504 23:11 [  ]\n",
        "\n",
        "Te pide:\n",
        "\n",
        "📁 Carpeta DICOM (0.UIA.PACS/xxxx)\n",
        "📌 Coordenadas del centro (x,y,z)\n",
        "🎯 Radio de la esfera (en mm)\n",
        "\n",
        "1. Convierte DICOM a NIfTI\n",
        "2. Genera una esfera con el radio que indiques\n",
        "3. Guarda el volumen recortado como .nii.gz y .nrrd\n",
        "4. Copia ambos archivos a Google Drive"
      ],
      "metadata": {
        "id": "tNpFvrZ_HsqT"
      }
    },
    {
      "cell_type": "code",
      "source": [
        "# ─────────────────────────────────────\n",
        "# 1. MONTAJE DE DRIVE Y LIBRERÍAS\n",
        "# ─────────────────────────────────────\n",
        "import os\n",
        "import shutil\n",
        "import numpy as np\n",
        "import nibabel as nib\n",
        "from google.colab import drive\n",
        "\n",
        "!pip install -q dicom2nifti nibabel pydicom\n",
        "!pip install -q pynrrd\n",
        "import dicom2nifti\n",
        "import nrrd\n",
        "\n",
        "drive.mount('/content/drive')"
      ],
      "metadata": {
        "colab": {
          "base_uri": "https://localhost:8080/"
        },
        "id": "9b5r9ggeW4kt",
        "outputId": "07576c5e-d0d6-421d-f903-11ca112a7408"
      },
      "execution_count": 1,
      "outputs": [
        {
          "output_type": "stream",
          "name": "stdout",
          "text": [
            "\u001b[?25l   \u001b[90m━━━━━━━━━━━━━━━━━━━━━━━━━━━━━━━━━━━━━━━━\u001b[0m \u001b[32m0.0/43.6 kB\u001b[0m \u001b[31m?\u001b[0m eta \u001b[36m-:--:--\u001b[0m\r\u001b[2K   \u001b[90m━━━━━━━━━━━━━━━━━━━━━━━━━━━━━━━━━━━━━━━━\u001b[0m \u001b[32m43.6/43.6 kB\u001b[0m \u001b[31m1.6 MB/s\u001b[0m eta \u001b[36m0:00:00\u001b[0m\n",
            "\u001b[2K   \u001b[90m━━━━━━━━━━━━━━━━━━━━━━━━━━━━━━━━━━━━━━━━\u001b[0m \u001b[32m2.4/2.4 MB\u001b[0m \u001b[31m28.2 MB/s\u001b[0m eta \u001b[36m0:00:00\u001b[0m\n",
            "\u001b[2K   \u001b[90m━━━━━━━━━━━━━━━━━━━━━━━━━━━━━━━━━━━━━━━━\u001b[0m \u001b[32m13.1/13.1 MB\u001b[0m \u001b[31m104.1 MB/s\u001b[0m eta \u001b[36m0:00:00\u001b[0m\n",
            "\u001b[?25hMounted at /content/drive\n"
          ]
        }
      ]
    },
    {
      "cell_type": "code",
      "source": [
        "# ─────────────────────────────────────\n",
        "# 2. INPUTS DEL USUARIO\n",
        "# ─────────────────────────────────────\n",
        "base_dir = \"/content/drive/MyDrive/0.UIA.PACS/\"\n",
        "folder_name = input(\"📁 Ingresá el nombre de la carpeta DICOM dentro de 0.UIA.PACS:\\n\")\n",
        "coords_str = input(\"📍 Ingresá las coordenadas del centro de la esfera (formato: x,y,z):\\n\")\n",
        "radius_mm = float(input(\"🟢 Ingresá el radio de la esfera en mm:\\n\"))\n",
        "\n",
        "center_voxel = np.array([int(c) for c in coords_str.split(\",\")])\n",
        "dicom_dir = os.path.join(base_dir, folder_name)\n",
        "nifti_output_dir = \"/content\"\n",
        "\n",
        "# ─────────────────────────────────────\n",
        "# 3. CONVERSIÓN DICOM → NIFTI\n",
        "# ─────────────────────────────────────\n",
        "dicom2nifti.convert_directory(dicom_dir, nifti_output_dir, compression=True)\n",
        "\n",
        "for f in os.listdir(nifti_output_dir):\n",
        "    if f.endswith(\".nii.gz\"):\n",
        "        nifti_path = os.path.join(nifti_output_dir, f)\n",
        "        print(\"✅ NIfTI generado:\", nifti_path)\n",
        "\n",
        "# ─────────────────────────────────────\n",
        "# 4. RECORTE DEL SUBVOLUMEN ESFÉRICO\n",
        "# ─────────────────────────────────────\n",
        "img = nib.load(nifti_path)\n",
        "data = img.get_fdata()\n",
        "affine = img.affine\n",
        "spacing = img.header.get_zooms()\n",
        "\n",
        "# Cálculo del radio en voxels\n",
        "radius_vox = np.round(radius_mm / np.array(spacing)).astype(int)\n",
        "\n",
        "# Crear máscara esférica en orden z, y, x\n",
        "zz, yy, xx = np.ogrid[:data.shape[2], :data.shape[1], :data.shape[0]]\n",
        "dist = ((xx - center_voxel[0])**2 / radius_vox[0]**2 +\n",
        "        (yy - center_voxel[1])**2 / radius_vox[1]**2 +\n",
        "        (zz - center_voxel[2])**2 / radius_vox[2]**2)\n",
        "mask = dist <= 1.0\n",
        "mask = mask.transpose(2, 1, 0)  # → a (x, y, z)\n",
        "\n",
        "# Aplicar máscara\n",
        "subvolume = np.zeros_like(data)\n",
        "subvolume[mask] = data[mask]\n",
        "\n",
        "# ─────────────────────────────────────\n",
        "# 5. GUARDADO DE RESULTADOS\n",
        "# ─────────────────────────────────────\n",
        "output_base = f\"{folder_name}_E{int(radius_mm)}mm\"\n",
        "nii_path = os.path.join(nifti_output_dir, output_base + \".nii.gz\")\n",
        "nib.save(nib.Nifti1Image(subvolume, affine), nii_path)\n",
        "print(f\"✅ Subvolumen guardado como NIfTI: {nii_path}\")\n",
        "\n",
        "# Guardar como NRRD (opcional para 3D Slicer)\n",
        "nrrd_path = os.path.join(nifti_output_dir, output_base + \".nrrd\")\n",
        "header = {'space directions': np.diag(spacing), 'space origin': affine[:3, 3]}\n",
        "nrrd.write(nrrd_path, subvolume, header)\n",
        "print(f\"🟢 Subvolumen guardado como NRRD: {nrrd_path}\")\n",
        "\n",
        "# ─────────────────────────────────────\n",
        "# 6. COPIAR ARCHIVOS A GOOGLE DRIVE\n",
        "# ─────────────────────────────────────\n",
        "shutil.copy(nii_path, os.path.join(base_dir, os.path.basename(nii_path)))\n",
        "shutil.copy(nrrd_path, os.path.join(base_dir, os.path.basename(nrrd_path)))\n",
        "print(\"📁✅ Archivos copiados a Google Drive.\")\n"
      ],
      "metadata": {
        "colab": {
          "base_uri": "https://localhost:8080/"
        },
        "id": "26symrEsHsAp",
        "outputId": "17c89c8d-0600-4657-ea30-a07b6c2d89a7"
      },
      "execution_count": 2,
      "outputs": [
        {
          "name": "stdout",
          "output_type": "stream",
          "text": [
            "📁 Ingresá el nombre de la carpeta DICOM dentro de 0.UIA.PACS:\n",
            "0.ATC.36519851216B182MB\n",
            "📍 Ingresá las coordenadas del centro de la esfera (formato: x,y,z):\n",
            "240,193,240\n",
            "🟢 Ingresá el radio de la esfera en mm:\n",
            "30\n"
          ]
        },
        {
          "output_type": "stream",
          "name": "stderr",
          "text": [
            "WARNING:dicom2nifti.convert_generic:Removing duplicate slice from series\n"
          ]
        },
        {
          "output_type": "stream",
          "name": "stdout",
          "text": [
            "✅ NIfTI generado: /content/9.nii.gz\n",
            "✅ Subvolumen guardado como NIfTI: /content/0.ATC.36519851216B182MB_E30mm.nii.gz\n",
            "🟢 Subvolumen guardado como NRRD: /content/0.ATC.36519851216B182MB_E30mm.nrrd\n",
            "📁✅ Archivos copiados a Google Drive.\n"
          ]
        }
      ]
    },
    {
      "cell_type": "markdown",
      "source": [
        "20250505 2:37 [Correccion]"
      ],
      "metadata": {
        "id": "9_sRfoLT4J7q"
      }
    },
    {
      "cell_type": "markdown",
      "source": [
        "✅ Conversión DICOM → NIfTI\n",
        "✅ Recorte esférico centrado en coordenadas RAS\n",
        "✅ Exportación en .nii.gz (con sform/qform)\n",
        "✅ Exportación en .nrrd (LPS explícito)\n",
        "✅ Fiducial .fcsv para verificar en 3D Slicer\n",
        "✅ Segmentación .seg.nrrd directamente compatible con Segment Editor\n",
        "✅ Copia automática de todo a tu Google Drive"
      ],
      "metadata": {
        "id": "IvSVomgY4Q6g"
      }
    },
    {
      "cell_type": "code",
      "source": [
        "# ──────────────────────────────\n",
        "# 1. MONTAJE Y LIBRERÍAS\n",
        "# ──────────────────────────────\n",
        "import os\n",
        "import shutil\n",
        "import numpy as np\n",
        "import nibabel as nib\n",
        "import dicom2nifti\n",
        "import nrrd\n",
        "from google.colab import drive\n",
        "\n",
        "!pip install -q dicom2nifti nibabel pynrrd pydicom\n",
        "\n",
        "drive.mount('/content/drive')\n",
        "\n",
        "# ──────────────────────────────\n",
        "# 2. INPUT DEL USUARIO\n",
        "# ──────────────────────────────\n",
        "base_dir = \"/content/drive/MyDrive/0.UIA.PACS/\"\n",
        "folder_name = input(\"📁 Nombre de la carpeta DICOM dentro de 0.UIA.PACS:\\n\")\n",
        "coords_str = input(\"📍 Coordenadas RAS desde 3D Slicer (formato: x,y,z):\\n\")\n",
        "radius_mm = float(input(\"🟢 Radio de la esfera en mm:\\n\"))\n",
        "\n",
        "center_ras = np.array([float(c) for c in coords_str.split(\",\")])\n",
        "dicom_dir = os.path.join(base_dir, folder_name)\n",
        "nifti_output_dir = \"/content\"\n",
        "\n",
        "# ──────────────────────────────\n",
        "# 3. CONVERSIÓN DICOM → NIFTI\n",
        "# ──────────────────────────────\n",
        "dicom2nifti.convert_directory(dicom_dir, nifti_output_dir, compression=True)\n",
        "\n",
        "# Buscar el nuevo NIfTI generado\n",
        "nifti_files = [f for f in os.listdir(nifti_output_dir) if f.endswith(\".nii.gz\")]\n",
        "if not nifti_files:\n",
        "    raise FileNotFoundError(\"No se encontró ningún archivo .nii.gz\")\n",
        "\n",
        "nifti_path = os.path.join(nifti_output_dir, nifti_files[0])\n",
        "print(\"✅ NIfTI generado:\", nifti_path)\n",
        "\n",
        "# ──────────────────────────────\n",
        "# 4. CARGAR NIfTI Y CONVERTIR COORDENADAS\n",
        "# ──────────────────────────────\n",
        "img = nib.load(nifti_path)\n",
        "data = img.get_fdata()\n",
        "affine = img.affine\n",
        "spacing = img.header.get_zooms()\n",
        "\n",
        "# Convertir coordenadas físicas RAS → índice de vóxel\n",
        "inv_affine = np.linalg.inv(affine)\n",
        "center_voxel = nib.affines.apply_affine(inv_affine, center_ras)\n",
        "center_voxel = np.round(center_voxel).astype(int)\n",
        "\n",
        "# Radio en voxeles\n",
        "radius_vox = np.round(radius_mm / np.array(spacing)).astype(int)\n",
        "\n",
        "# ──────────────────────────────\n",
        "# 5. MÁSCARA ESFÉRICA\n",
        "# ──────────────────────────────\n",
        "zz, yy, xx = np.ogrid[:data.shape[2], :data.shape[1], :data.shape[0]]\n",
        "dist = ((xx - center_voxel[0])**2 / radius_vox[0]**2 +\n",
        "        (yy - center_voxel[1])**2 / radius_vox[1]**2 +\n",
        "        (zz - center_voxel[2])**2 / radius_vox[2]**2)\n",
        "mask = dist <= 1.0\n",
        "mask = mask.transpose(2, 1, 0)\n",
        "\n",
        "subvolume = np.zeros_like(data)\n",
        "subvolume[mask] = data[mask]\n",
        "\n",
        "# ──────────────────────────────\n",
        "# 6. GUARDADO NIfTI (RAS con header explícito)\n",
        "# ──────────────────────────────\n",
        "output_base = f\"{folder_name}_E{int(radius_mm)}mm\"\n",
        "nii_path = os.path.join(nifti_output_dir, output_base + \".nii.gz\")\n",
        "\n",
        "nifti_img = nib.Nifti1Image(subvolume, affine)\n",
        "nifti_img.header.set_sform(affine, code=1)\n",
        "nifti_img.header.set_qform(affine, code=1)\n",
        "nib.save(nifti_img, nii_path)\n",
        "print(f\"✅ Subvolumen guardado como NIfTI: {nii_path}\")\n",
        "\n",
        "# ──────────────────────────────\n",
        "# 7. GUARDADO NRRD (LPS explícito)\n",
        "# ──────────────────────────────\n",
        "nrrd_path = os.path.join(nifti_output_dir, output_base + \".nrrd\")\n",
        "\n",
        "header = {\n",
        "    'type': subvolume.dtype.name,\n",
        "    'dimension': 3,\n",
        "    'sizes': subvolume.shape,\n",
        "    'space': 'left-posterior-superior',\n",
        "    'space origin': affine[:3, 3].tolist(),\n",
        "    'space directions': [affine[:3, i].tolist() for i in range(3)],\n",
        "    'kinds': ['domain'] * 3,\n",
        "    'endian': 'little',\n",
        "    'encoding': 'gzip'\n",
        "}\n",
        "\n",
        "nrrd.write(nrrd_path, subvolume, header)\n",
        "print(f\"🟢 Subvolumen guardado como NRRD: {nrrd_path}\")\n",
        "\n",
        "# ──────────────────────────────\n",
        "# 8. FIDUCIAL .FCSV PARA SLICER\n",
        "# ──────────────────────────────\n",
        "fiducial_path = os.path.join(nifti_output_dir, output_base + \"_center.fcsv\")\n",
        "with open(fiducial_path, \"w\") as f:\n",
        "    f.write(\"# Markups fiducial file version = 4.11\\n\")\n",
        "    f.write(\"# CoordinateSystem = 0\\n\")  # 0 = RAS\n",
        "    f.write(\"# columns = id,x,y,z,ow,ox,oy,oz,vis,sel,lock,label,desc,associatedNodeID\\n\")\n",
        "    f.write(f\"1,{center_ras[0]},{center_ras[1]},{center_ras[2]},0,0,0,1,1,1,0,CenterRAS,,\\n\")\n",
        "print(f\"📍 Fiducial guardado: {fiducial_path}\")\n",
        "\n",
        "# ──────────────────────────────\n",
        "# 9. SEGMENTACIÓN .seg.nrrd\n",
        "# ──────────────────────────────\n",
        "seg_path = os.path.join(nifti_output_dir, output_base + \".seg.nrrd\")\n",
        "\n",
        "seg_header = {\n",
        "    'type': 'uint8',\n",
        "    'dimension': 3,\n",
        "    'sizes': subvolume.shape,\n",
        "    'space': 'left-posterior-superior',\n",
        "    'space origin': affine[:3, 3].tolist(),\n",
        "    'space directions': [affine[:3, i].tolist() for i in range(3)],\n",
        "    'kinds': ['domain'] * 3,\n",
        "    'endian': 'little',\n",
        "    'encoding': 'gzip',\n",
        "    'modality': 'SEG',\n",
        "    'Segment0_Color': '1 0 0',  # rojo\n",
        "    'Segment0_Name': 'Aneurisma',\n",
        "    'Segment0_ID': 'aneurisma_seg',\n",
        "    'Segment0_LabelValue': '1',\n",
        "    'Segment0_Extent': f\"0 {subvolume.shape[0]-1} 0 {subvolume.shape[1]-1} 0 {subvolume.shape[2]-1}\",\n",
        "    'Segment0_ReferenceImageExtentOffset': '0 0 0'\n",
        "}\n",
        "\n",
        "seg_data = (subvolume > 0).astype(np.uint8)\n",
        "nrrd.write(seg_path, seg_data, seg_header)\n",
        "print(f\"🧠 Segmentación guardada como: {seg_path}\")\n",
        "\n",
        "# ──────────────────────────────\n",
        "# 10. COPIA TODO A GOOGLE DRIVE\n",
        "# ──────────────────────────────\n",
        "shutil.copy(nii_path, os.path.join(base_dir, os.path.basename(nii_path)))\n",
        "shutil.copy(nrrd_path, os.path.join(base_dir, os.path.basename(nrrd_path)))\n",
        "shutil.copy(fiducial_path, os.path.join(base_dir, os.path.basename(fiducial_path)))\n",
        "shutil.copy(seg_path, os.path.join(base_dir, os.path.basename(seg_path)))\n",
        "print(\"📁✅ Todos los archivos copiados a Google Drive.\")\n"
      ],
      "metadata": {
        "id": "QjlICG-B4WmH"
      },
      "execution_count": null,
      "outputs": []
    },
    {
      "cell_type": "markdown",
      "source": [
        "📌 ¿Cómo usarla en Slicer?\n",
        "Abrí la imagen base (.nii.gz o .nrrd).\n",
        "\n",
        "Luego abrí el .seg.nrrd → Slicer lo cargará como una segmentación activa.\n",
        "\n",
        "Activá la vista 3D o el Segment Editor para manipular la máscara.\n",
        "\n",
        "[20250505 2:46 [ChatGPT]](https://chatgpt.com/share/681809f5-def4-8011-853b-5dd735a4b287)\n",
        "\n"
      ],
      "metadata": {
        "id": "e8_kTG8j46zi"
      }
    }
  ]
}